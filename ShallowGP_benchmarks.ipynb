{
 "cells": [
  {
   "cell_type": "markdown",
   "id": "ca08450a-8615-4677-b4ca-c011d082ffb8",
   "metadata": {},
   "source": [
    "# Shallow GP benchmarks\n",
    "\n",
    "Shallow GP benchmarks for 'Kernels with Latent Gaussian Processes for Non-stationary Regression' paper.\n",
    "Here we train and evaluate GPs with the following kernels\n",
    "- Squared exponemtial\n",
    "- Squared exponemtial times periodic plus squared exponential (custom kernel)"
   ]
  },
  {
   "cell_type": "code",
   "execution_count": 1,
   "id": "543cfdc0-5f90-4b76-b51a-0a56490d21d3",
   "metadata": {},
   "outputs": [],
   "source": [
    "import scipy.stats"
   ]
  },
  {
   "cell_type": "code",
   "execution_count": 2,
   "id": "cbd342ae-a6a4-4b0a-be85-bebb2fd186b3",
   "metadata": {},
   "outputs": [
    {
     "name": "stdout",
     "output_type": "stream",
     "text": [
      "env: CUDA_VISIBLE_DEVICES=0\n"
     ]
    }
   ],
   "source": [
    "%set_env CUDA_VISIBLE_DEVICES=0\n",
    "\n",
    "import torch\n",
    "import tqdm\n",
    "import gpytorch\n",
    "from gpytorch.means import ConstantMean, LinearMean\n",
    "from gpytorch.kernels import RBFKernel, ScaleKernel\n",
    "from gpytorch.variational import VariationalStrategy, CholeskyVariationalDistribution\n",
    "from gpytorch.distributions import MultivariateNormal\n",
    "from gpytorch.models import ApproximateGP, GP\n",
    "from gpytorch.mlls import VariationalELBO, AddedLossTerm\n",
    "from gpytorch.likelihoods import GaussianLikelihood"
   ]
  },
  {
   "cell_type": "code",
   "execution_count": 3,
   "id": "1f03c76c-9930-4b3d-8ddd-38d4da375ef7",
   "metadata": {},
   "outputs": [],
   "source": [
    "from gpytorch.models.deep_gps import DeepGPLayer, DeepGP\n",
    "from gpytorch.mlls import DeepApproximateMLL"
   ]
  },
  {
   "cell_type": "code",
   "execution_count": 4,
   "id": "cb6f5f6b-c407-4038-bc03-90e337456f42",
   "metadata": {},
   "outputs": [],
   "source": [
    "import urllib.request\n",
    "import os\n",
    "from math import floor\n",
    "import pandas as pd\n"
   ]
  },
  {
   "cell_type": "markdown",
   "id": "1cc9a884-ea07-4c03-994a-57666c3a59bb",
   "metadata": {},
   "source": [
    "# Load data"
   ]
  },
  {
   "cell_type": "code",
   "execution_count": 5,
   "id": "703a7fc5-daee-47c5-96a2-06e9d52b2bab",
   "metadata": {},
   "outputs": [],
   "source": [
    "data_df = pd.read_csv('khyber_2000_2010_tp.csv')"
   ]
  },
  {
   "cell_type": "code",
   "execution_count": 101,
   "id": "063622ad-31ea-4cbb-acd2-413819a8e4b6",
   "metadata": {},
   "outputs": [
    {
     "name": "stdout",
     "output_type": "stream",
     "text": [
      "tensor([[2000.0416,   72.2500,   34.5000],\n",
      "        [2000.0416,   72.2500,   34.7500],\n",
      "        [2000.0416,   72.5000,   34.5000],\n",
      "        ...,\n",
      "        [2010.9584,   75.5000,   34.2500],\n",
      "        [2010.9584,   75.5000,   34.5000],\n",
      "        [2010.9584,   75.7500,   34.0000]])\n"
     ]
    }
   ],
   "source": [
    "data = torch.Tensor(data_df.values)\n",
    "X = data[:, 1:-1]\n",
    "print(X)\n",
    "X = X - X.min(0)[0]\n",
    "X = 2 * (X / X.max(0)[0]) - 1"
   ]
  },
  {
   "cell_type": "code",
   "execution_count": 7,
   "id": "26f98456-f610-4793-a623-0723aa6ef6b8",
   "metadata": {},
   "outputs": [],
   "source": [
    "y = data[:, -1]\n",
    "y_tr, bc_param = scipy.stats.boxcox(y + 0.001)"
   ]
  },
  {
   "cell_type": "code",
   "execution_count": 8,
   "id": "e6a5f82b-8688-4dfc-ab81-67f05f0a36da",
   "metadata": {},
   "outputs": [],
   "source": [
    "train_n = int(floor(0.8 * len(X)))\n",
    "train_x = X[:train_n, :].contiguous()\n",
    "train_y = y[:train_n].contiguous()\n",
    "\n",
    "test_x = X[train_n:, :].contiguous()\n",
    "test_y = y[train_n:].contiguous()"
   ]
  },
  {
   "cell_type": "code",
   "execution_count": 9,
   "id": "422310fa-e7fb-4906-b09a-3485332495e9",
   "metadata": {},
   "outputs": [],
   "source": [
    "if torch.cuda.is_available():\n",
    "    train_x, train_y, test_x, test_y = train_x.cuda(), train_y.cuda(), test_x.cuda(), test_y.cuda()"
   ]
  },
  {
   "cell_type": "code",
   "execution_count": 10,
   "id": "b959f1bb-e067-43b2-8604-4e466335fa29",
   "metadata": {},
   "outputs": [],
   "source": [
    "from torch.utils.data import TensorDataset, DataLoader\n",
    "train_dataset = TensorDataset(train_x, train_y)\n",
    "train_loader = DataLoader(train_dataset, batch_size=1024, shuffle=True)"
   ]
  },
  {
   "cell_type": "code",
   "execution_count": 42,
   "id": "62cd9323-c8ea-42ea-8961-5dcb2adc567c",
   "metadata": {},
   "outputs": [
    {
     "data": {
      "text/plain": [
       "torch.Size([4540, 3])"
      ]
     },
     "execution_count": 42,
     "metadata": {},
     "output_type": "execute_result"
    }
   ],
   "source": [
    "train_x.shape"
   ]
  },
  {
   "cell_type": "markdown",
   "id": "fc3ee54b-5641-460d-8ece-59096de41025",
   "metadata": {},
   "source": [
    "## Exact GP class "
   ]
  },
  {
   "cell_type": "code",
   "execution_count": 11,
   "id": "3c0468a3-0e02-4929-a110-56f5578d81e7",
   "metadata": {},
   "outputs": [],
   "source": [
    "# We will use the simplest form of GP model, exact inference\n",
    "class ExactGPModel(gpytorch.models.ExactGP):\n",
    "    def __init__(self, train_x, train_y, likelihood, kernel):\n",
    "        super(ExactGPModel, self).__init__(train_x, train_y, likelihood)\n",
    "        self.mean_module = gpytorch.means.ConstantMean()\n",
    "        self.covar_module = kernel\n",
    "\n",
    "    def forward(self, x):\n",
    "        mean_x = self.mean_module(x)\n",
    "        covar_x = self.covar_module(x)\n",
    "        return gpytorch.distributions.MultivariateNormal(mean_x, covar_x)"
   ]
  },
  {
   "cell_type": "code",
   "execution_count": 80,
   "id": "38b0a4a1-ccc4-456f-a174-7218bc85aa7d",
   "metadata": {},
   "outputs": [],
   "source": [
    "# Kernels\n",
    "SE_kernel = gpytorch.kernels.ScaleKernel(gpytorch.kernels.RBFKernel())\n",
    "custom_kernel = gpytorch.kernels.ScaleKernel(gpytorch.kernels.RBFKernel(ard_num_dims=3) + gpytorch.kernels.RBFKernel(ard_num_dims=1, active_dims=[0])*gpytorch.kernels.PeriodicKernel(active_dims=[0]))"
   ]
  },
  {
   "cell_type": "code",
   "execution_count": 81,
   "id": "4d9914da-2e56-486f-af60-3aa00d3ff89b",
   "metadata": {},
   "outputs": [],
   "source": [
    "# initialize likelihood and model\n",
    "likelihood = gpytorch.likelihoods.GaussianLikelihood()\n",
    "model = ExactGPModel(train_x, train_y, likelihood, custom_kernel)"
   ]
  },
  {
   "cell_type": "markdown",
   "id": "75f19b72-e1d7-45c8-a698-b87f498e8560",
   "metadata": {},
   "source": [
    "## Training"
   ]
  },
  {
   "cell_type": "code",
   "execution_count": 82,
   "id": "90972e24-d5c2-4ddd-89eb-bc8b8c161093",
   "metadata": {},
   "outputs": [],
   "source": [
    "# this is for running the notebook in our testing framework\n",
    "import os\n",
    "smoke_test = ('CI' in os.environ)\n",
    "training_iter = 50"
   ]
  },
  {
   "cell_type": "code",
   "execution_count": 83,
   "id": "740fb062-fb5a-4e8f-a245-6d2d6baaf29a",
   "metadata": {},
   "outputs": [
    {
     "data": {
      "text/plain": [
       "GaussianLikelihood(\n",
       "  (noise_covar): HomoskedasticNoise(\n",
       "    (raw_noise_constraint): GreaterThan(1.000E-04)\n",
       "  )\n",
       ")"
      ]
     },
     "execution_count": 83,
     "metadata": {},
     "output_type": "execute_result"
    }
   ],
   "source": [
    "# Find optimal model hyperparameters\n",
    "model.train()\n",
    "likelihood.train()"
   ]
  },
  {
   "cell_type": "code",
   "execution_count": 84,
   "id": "2281d4b0-a6bb-40fd-80d1-3ee1ea33643a",
   "metadata": {},
   "outputs": [],
   "source": [
    "# Use the adam optimizer\n",
    "optimizer = torch.optim.Adam(model.parameters(), lr=0.1)  # Includes GaussianLikelihood parameters"
   ]
  },
  {
   "cell_type": "code",
   "execution_count": 85,
   "id": "5cb7bf62-1d57-40f3-927c-ab385dfb1f87",
   "metadata": {},
   "outputs": [],
   "source": [
    "# \"Loss\" for GPs - the marginal log likelihood\n",
    "mll = gpytorch.mlls.ExactMarginalLogLikelihood(likelihood, model)"
   ]
  },
  {
   "cell_type": "code",
   "execution_count": 86,
   "id": "2ec56de7-222e-4f39-b9b1-d22ab0d079e3",
   "metadata": {},
   "outputs": [],
   "source": [
    "# model.covar_module.base_kernel.lengthscale.item()"
   ]
  },
  {
   "cell_type": "code",
   "execution_count": 87,
   "id": "f8ba2567-8472-4558-9e13-693380f51544",
   "metadata": {},
   "outputs": [
    {
     "name": "stdout",
     "output_type": "stream",
     "text": [
      "Iter 1/50 - Loss: 4.941\n",
      "Iter 2/50 - Loss: 4.593\n",
      "Iter 3/50 - Loss: 4.335\n",
      "Iter 4/50 - Loss: 4.063\n",
      "Iter 5/50 - Loss: 3.664\n",
      "Iter 6/50 - Loss: 3.514\n",
      "Iter 7/50 - Loss: 3.337\n",
      "Iter 8/50 - Loss: 3.138\n",
      "Iter 9/50 - Loss: 2.889\n",
      "Iter 10/50 - Loss: 2.670\n",
      "Iter 11/50 - Loss: 2.561\n",
      "Iter 12/50 - Loss: 2.500\n",
      "Iter 13/50 - Loss: 2.421\n",
      "Iter 14/50 - Loss: 2.320\n",
      "Iter 15/50 - Loss: 2.210\n",
      "Iter 16/50 - Loss: 2.131\n",
      "Iter 17/50 - Loss: 2.075\n",
      "Iter 18/50 - Loss: 1.998\n",
      "Iter 19/50 - Loss: 1.951\n",
      "Iter 20/50 - Loss: 1.877\n",
      "Iter 21/50 - Loss: 1.848\n",
      "Iter 22/50 - Loss: 1.815\n",
      "Iter 23/50 - Loss: 1.791\n",
      "Iter 24/50 - Loss: 1.785\n",
      "Iter 25/50 - Loss: 1.780\n",
      "Iter 26/50 - Loss: 1.782\n",
      "Iter 27/50 - Loss: 1.777\n",
      "Iter 28/50 - Loss: 1.774\n",
      "Iter 29/50 - Loss: 1.771\n",
      "Iter 30/50 - Loss: 1.774\n",
      "Iter 31/50 - Loss: 1.769\n",
      "Iter 32/50 - Loss: 1.774\n",
      "Iter 33/50 - Loss: 1.773\n",
      "Iter 34/50 - Loss: 1.767\n",
      "Iter 35/50 - Loss: 1.766\n",
      "Iter 36/50 - Loss: 1.771\n",
      "Iter 37/50 - Loss: 1.771\n",
      "Iter 38/50 - Loss: 1.772\n",
      "Iter 39/50 - Loss: 1.772\n",
      "Iter 40/50 - Loss: 1.773\n",
      "Iter 41/50 - Loss: 1.772\n",
      "Iter 42/50 - Loss: 1.771\n",
      "Iter 43/50 - Loss: 1.769\n",
      "Iter 44/50 - Loss: 1.771\n",
      "Iter 45/50 - Loss: 1.772\n",
      "Iter 46/50 - Loss: 1.770\n",
      "Iter 47/50 - Loss: 1.767\n",
      "Iter 48/50 - Loss: 1.773\n",
      "Iter 49/50 - Loss: 1.771\n",
      "Iter 50/50 - Loss: 1.775\n"
     ]
    }
   ],
   "source": [
    "for i in range(training_iter):\n",
    "    # Zero gradients from previous iteration\n",
    "    optimizer.zero_grad()\n",
    "    # Output from model\n",
    "    output = model(train_x)\n",
    "    # Calc loss and backprop gradients\n",
    "    loss = -mll(output, train_y)\n",
    "    loss.backward()\n",
    "    print('Iter %d/%d - Loss: %.3f'  # lengthscale: %.3f   noise: %.3f' \n",
    "          % (i + 1, training_iter, loss.item(),\n",
    "        #model.covar_module.base_kernel.lengthscale.item(),\n",
    "        #model.likelihood.noise.item()\n",
    "    ))\n",
    "    optimizer.step()"
   ]
  },
  {
   "cell_type": "markdown",
   "id": "744a9bff-a2b2-431a-8bd5-6536ce771075",
   "metadata": {},
   "source": [
    "## Metrics"
   ]
  },
  {
   "cell_type": "code",
   "execution_count": 88,
   "id": "8721be42-cd37-4ae9-a250-50307a2f83de",
   "metadata": {},
   "outputs": [],
   "source": [
    "def negative_log_predictive_density(test_y, predicted_mean, predicted_var):\n",
    "    \n",
    "    # Vector of log-predictive density per test point    \n",
    "    lpd = torch.distributions.Normal(predicted_mean, torch.sqrt(predicted_var)).log_prob(test_y)\n",
    "    \n",
    "    # return the average\n",
    "    return -torch.mean(lpd)"
   ]
  },
  {
   "cell_type": "code",
   "execution_count": 89,
   "id": "5197d16e-bb2d-4801-9c51-73b3956d900d",
   "metadata": {},
   "outputs": [],
   "source": [
    "def sqrt_mean_squared_error(test_y, predicted_mean):\n",
    "        \n",
    "    return torch.sqrt(torch.mean((test_y - predicted_mean)**2))"
   ]
  },
  {
   "cell_type": "code",
   "execution_count": 90,
   "id": "3263d6f3-cca5-4e05-9ca6-0efb4941e630",
   "metadata": {},
   "outputs": [
    {
     "data": {
      "text/plain": [
       "ExactGPModel(\n",
       "  (likelihood): GaussianLikelihood(\n",
       "    (noise_covar): HomoskedasticNoise(\n",
       "      (raw_noise_constraint): GreaterThan(1.000E-04)\n",
       "    )\n",
       "  )\n",
       "  (mean_module): ConstantMean()\n",
       "  (covar_module): ScaleKernel(\n",
       "    (base_kernel): AdditiveKernel(\n",
       "      (kernels): ModuleList(\n",
       "        (0): RBFKernel(\n",
       "          (raw_lengthscale_constraint): Positive()\n",
       "          (distance_module): Distance()\n",
       "        )\n",
       "        (1): ProductKernel(\n",
       "          (kernels): ModuleList(\n",
       "            (0): RBFKernel(\n",
       "              (raw_lengthscale_constraint): Positive()\n",
       "              (distance_module): Distance()\n",
       "            )\n",
       "            (1): PeriodicKernel(\n",
       "              (raw_lengthscale_constraint): Positive()\n",
       "              (raw_period_length_constraint): Positive()\n",
       "            )\n",
       "          )\n",
       "        )\n",
       "      )\n",
       "    )\n",
       "    (raw_outputscale_constraint): Positive()\n",
       "  )\n",
       ")"
      ]
     },
     "execution_count": 90,
     "metadata": {},
     "output_type": "execute_result"
    }
   ],
   "source": [
    "model.eval()"
   ]
  },
  {
   "cell_type": "code",
   "execution_count": 91,
   "id": "6b72cd31-958f-42ce-8bfd-170f6a28613a",
   "metadata": {},
   "outputs": [
    {
     "data": {
      "text/plain": [
       "ExactGPModel(\n",
       "  (likelihood): GaussianLikelihood(\n",
       "    (noise_covar): HomoskedasticNoise(\n",
       "      (raw_noise_constraint): GreaterThan(1.000E-04)\n",
       "    )\n",
       "  )\n",
       "  (mean_module): ConstantMean()\n",
       "  (covar_module): ScaleKernel(\n",
       "    (base_kernel): AdditiveKernel(\n",
       "      (kernels): ModuleList(\n",
       "        (0): RBFKernel(\n",
       "          (raw_lengthscale_constraint): Positive()\n",
       "          (distance_module): Distance()\n",
       "        )\n",
       "        (1): ProductKernel(\n",
       "          (kernels): ModuleList(\n",
       "            (0): RBFKernel(\n",
       "              (raw_lengthscale_constraint): Positive()\n",
       "              (distance_module): Distance()\n",
       "            )\n",
       "            (1): PeriodicKernel(\n",
       "              (raw_lengthscale_constraint): Positive()\n",
       "              (raw_period_length_constraint): Positive()\n",
       "            )\n",
       "          )\n",
       "        )\n",
       "      )\n",
       "    )\n",
       "    (raw_outputscale_constraint): Positive()\n",
       "  )\n",
       ")"
      ]
     },
     "execution_count": 91,
     "metadata": {},
     "output_type": "execute_result"
    }
   ],
   "source": [
    "model.eval()"
   ]
  },
  {
   "cell_type": "code",
   "execution_count": 92,
   "id": "2556be32-4109-4d7b-ad03-31109bedda6f",
   "metadata": {},
   "outputs": [
    {
     "name": "stdout",
     "output_type": "stream",
     "text": [
      "RMSE: 3.3271384239196777, NLPD: 2.8358261585235596\n"
     ]
    }
   ],
   "source": [
    "with torch.no_grad():\n",
    "    trained_pred_dist = likelihood(model(test_x))\n",
    "    predictive_mean = trained_pred_dist.mean\n",
    "    predictive_variances = trained_pred_dist.variance\n",
    "\n",
    "rmse = sqrt_mean_squared_error(test_y, predictive_mean)\n",
    "nlpd = negative_log_predictive_density(test_y, predictive_mean, predictive_variances)\n",
    "\n",
    "print(f\"RMSE: {rmse.item()}, NLPD: {nlpd.item()}\")"
   ]
  },
  {
   "cell_type": "markdown",
   "id": "4231c932-17c2-44c1-96f6-674d03a1788a",
   "metadata": {},
   "source": [
    "## plots"
   ]
  },
  {
   "cell_type": "code",
   "execution_count": 93,
   "id": "badc5746-1808-43ad-bf64-4b345d0a3e6e",
   "metadata": {},
   "outputs": [],
   "source": [
    "import matplotlib.pyplot as plt"
   ]
  },
  {
   "cell_type": "code",
   "execution_count": 94,
   "id": "6dd4bf0a-4312-40b7-8e70-43b17ed43b11",
   "metadata": {},
   "outputs": [],
   "source": [
    "d = test_x[19:]\n",
    "a = test_y[19:]\n",
    "pred = likelihood(model(d[::43])).mean"
   ]
  },
  {
   "cell_type": "code",
   "execution_count": 95,
   "id": "2b9656d6-e754-43c8-a54f-de2254ce65cc",
   "metadata": {},
   "outputs": [
    {
     "data": {
      "text/plain": [
       "<function Tensor.values>"
      ]
     },
     "execution_count": 95,
     "metadata": {},
     "output_type": "execute_result"
    }
   ],
   "source": [
    "pred.values"
   ]
  },
  {
   "cell_type": "code",
   "execution_count": 96,
   "id": "b642f2d9-c2bb-40d4-98ce-af79ef326fcd",
   "metadata": {},
   "outputs": [
    {
     "data": {
      "image/png": "[encoded data removed]",
      "text/plain": [
       "<Figure size 432x288 with 1 Axes>"
      ]
     },
     "metadata": {
      "needs_background": "light"
     },
     "output_type": "display_data"
    }
   ],
   "source": [
    "with torch.no_grad():\n",
    "    plt.plot(d[::43, 0], pred, label='test pred')\n",
    "    plt.plot(d[::43, 0], a[::43], label='truth')\n",
    "    plt.legend()"
   ]
  },
  {
   "cell_type": "code",
   "execution_count": 99,
   "id": "af9a436e-0cf8-48ac-9cb6-10726c52876e",
   "metadata": {},
   "outputs": [],
   "source": [
    "with torch.no_grad():\n",
    "    train_pred = likelihood(model(train_x[::43])).mean"
   ]
  },
  {
   "cell_type": "code",
   "execution_count": 100,
   "id": "7bd68304-3c86-45e0-b41d-e242042145e7",
   "metadata": {},
   "outputs": [
    {
     "data": {
      "text/plain": [
       "<matplotlib.legend.Legend at 0x7f2ef556cf40>"
      ]
     },
     "execution_count": 100,
     "metadata": {},
     "output_type": "execute_result"
    },
    {
     "data": {
      "image/png": "[encoded data removed]",
      "text/plain": [
       "<Figure size 432x288 with 1 Axes>"
      ]
     },
     "metadata": {
      "needs_background": "light"
     },
     "output_type": "display_data"
    }
   ],
   "source": [
    "plt.plot(train_x[::43, 0], train_pred, label='training prediction')\n",
    "plt.plot(train_x[::43, 0], train_y[::43], label='truth')\n",
    "plt.legend()"
   ]
  },
  {
   "cell_type": "code",
   "execution_count": null,
   "id": "91219feb-0e78-4661-8e99-33ba27168722",
   "metadata": {},
   "outputs": [],
   "source": []
  }
 ],
 "metadata": {
  "kernelspec": {
   "display_name": "Python 3 + Jaspy",
   "language": "python",
   "name": "jaspy"
  },
  "language_info": {
   "codemirror_mode": {
    "name": "ipython",
    "version": 3
   },
   "file_extension": ".py",
   "mimetype": "text/x-python",
   "name": "python",
   "nbconvert_exporter": "python",
   "pygments_lexer": "ipython3",
   "version": "3.8.12"
  }
 },
 "nbformat": 4,
 "nbformat_minor": 5
}
