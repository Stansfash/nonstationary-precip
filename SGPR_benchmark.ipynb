{
 "cells": [
  {
   "cell_type": "markdown",
   "id": "ca08450a-8615-4677-b4ca-c011d082ffb8",
   "metadata": {},
   "source": [
    "# Sparse GP benchmarks\n",
    "\n",
    "Sparse GP benchmarks for 'Kernels with Latent Gaussian Processes for Non-stationary Regression' paper.\n",
    "Here we train and evaluate GPs with the following kernels\n",
    "- Squared exponemtial\n",
    "- Squared exponemtial times periodic plus squared exponential (custom kernel)"
   ]
  },
  {
   "cell_type": "code",
   "execution_count": 1,
   "id": "cbd342ae-a6a4-4b0a-be85-bebb2fd186b3",
   "metadata": {},
   "outputs": [
    {
     "name": "stdout",
     "output_type": "stream",
     "text": [
      "env: CUDA_VISIBLE_DEVICES=0\n"
     ]
    }
   ],
   "source": [
    "%set_env CUDA_VISIBLE_DEVICES=0\n",
    "\n",
    "import torch\n",
    "import tqdm\n",
    "import gpytorch\n",
    "from gpytorch.means import ConstantMean, LinearMean\n",
    "from gpytorch.kernels import RBFKernel, ScaleKernel\n",
    "from gpytorch.variational import VariationalStrategy, CholeskyVariationalDistribution\n",
    "from gpytorch.distributions import MultivariateNormal\n",
    "from gpytorch.models import ApproximateGP, GP\n",
    "from gpytorch.mlls import VariationalELBO, AddedLossTerm\n",
    "from gpytorch.likelihoods import GaussianLikelihood"
   ]
  },
  {
   "cell_type": "code",
   "execution_count": 2,
   "id": "1f03c76c-9930-4b3d-8ddd-38d4da375ef7",
   "metadata": {},
   "outputs": [],
   "source": [
    "from gpytorch.models.deep_gps import DeepGPLayer, DeepGP\n",
    "from gpytorch.mlls import DeepApproximateMLL"
   ]
  },
  {
   "cell_type": "code",
   "execution_count": 3,
   "id": "cb6f5f6b-c407-4038-bc03-90e337456f42",
   "metadata": {},
   "outputs": [],
   "source": [
    "import urllib.request\n",
    "import os\n",
    "import numpy as np\n",
    "from math import floor\n",
    "import pandas as pd"
   ]
  },
  {
   "cell_type": "code",
   "execution_count": 4,
   "id": "c972de9d-1755-462f-962c-bf3a055cb677",
   "metadata": {},
   "outputs": [],
   "source": [
    "import sgpr as sgpr"
   ]
  },
  {
   "cell_type": "markdown",
   "id": "1cc9a884-ea07-4c03-994a-57666c3a59bb",
   "metadata": {},
   "source": [
    "# Load data"
   ]
  },
  {
   "cell_type": "code",
   "execution_count": 5,
   "id": "703a7fc5-daee-47c5-96a2-06e9d52b2bab",
   "metadata": {},
   "outputs": [],
   "source": [
    "data_df = pd.read_csv('khyber_2000_2010_tp.csv')"
   ]
  },
  {
   "cell_type": "code",
   "execution_count": 8,
   "id": "063622ad-31ea-4cbb-acd2-413819a8e4b6",
   "metadata": {},
   "outputs": [],
   "source": [
    "data = torch.Tensor(data_df.values)\n",
    "X = data[:, 1:-1]\n",
    "X = X - X.min(0)[0]\n",
    "X = 2 * (X / X.max(0)[0]) - 1\n",
    "y = data[:, -1]"
   ]
  },
  {
   "cell_type": "code",
   "execution_count": 9,
   "id": "e6a5f82b-8688-4dfc-ab81-67f05f0a36da",
   "metadata": {},
   "outputs": [],
   "source": [
    "train_n = int(floor(0.8 * len(X)))\n",
    "train_x = X[:train_n, :].contiguous()\n",
    "train_y = y[:train_n].contiguous()\n",
    "\n",
    "test_x = X[train_n:, :].contiguous()\n",
    "test_y = y[train_n:].contiguous()"
   ]
  },
  {
   "cell_type": "code",
   "execution_count": 10,
   "id": "422310fa-e7fb-4906-b09a-3485332495e9",
   "metadata": {},
   "outputs": [],
   "source": [
    "if torch.cuda.is_available():\n",
    "    train_x, train_y, test_x, test_y = train_x.cuda(), train_y.cuda(), test_x.cuda(), test_y.cuda()"
   ]
  },
  {
   "cell_type": "code",
   "execution_count": 11,
   "id": "b959f1bb-e067-43b2-8604-4e466335fa29",
   "metadata": {},
   "outputs": [],
   "source": [
    "from torch.utils.data import TensorDataset, DataLoader\n",
    "train_dataset = TensorDataset(train_x, train_y)\n",
    "train_loader = DataLoader(train_dataset, batch_size=1024, shuffle=True)"
   ]
  },
  {
   "cell_type": "code",
   "execution_count": 12,
   "id": "42271615-18d3-47c4-bf1c-5fec08c0475b",
   "metadata": {},
   "outputs": [],
   "source": [
    "# Inducing points\n",
    "idx = np.random.randint(len(train_x), size=400)\n",
    "Z_init = train_x[idx]"
   ]
  },
  {
   "cell_type": "markdown",
   "id": "fc3ee54b-5641-460d-8ece-59096de41025",
   "metadata": {},
   "source": [
    "## Sparse GP "
   ]
  },
  {
   "cell_type": "code",
   "execution_count": 13,
   "id": "38b0a4a1-ccc4-456f-a174-7218bc85aa7d",
   "metadata": {},
   "outputs": [],
   "source": [
    "# Kernels\n",
    "SE_kernel = gpytorch.kernels.ScaleKernel(gpytorch.kernels.RBFKernel(ard_num_dims=3))\n",
    "custom_kernel = gpytorch.kernels.ScaleKernel(gpytorch.kernels.RBFKernel(ard_num_dims=3) + gpytorch.kernels.RBFKernel(ard_num_dims=1, active_dims=[0])* gpytorch.kernels.PeriodicKernel(active_dims=[0]))"
   ]
  },
  {
   "cell_type": "code",
   "execution_count": 16,
   "id": "90878d7d-6420-4c86-b7ff-b976384bdfaa",
   "metadata": {},
   "outputs": [],
   "source": [
    "likelihood = gpytorch.likelihoods.GaussianLikelihood()\n",
    "model = sgpr.SparseGPR(train_x, train_y, likelihood, Z_init, custom_kernel)\n",
    "optimizer = torch.optim.Adam(model.parameters(), lr=0.01)"
   ]
  },
  {
   "cell_type": "markdown",
   "id": "75f19b72-e1d7-45c8-a698-b87f498e8560",
   "metadata": {},
   "source": [
    "## Training"
   ]
  },
  {
   "cell_type": "code",
   "execution_count": null,
   "id": "063d163d-f012-430f-a6d2-9f035da56ffc",
   "metadata": {},
   "outputs": [
    {
     "name": "stdout",
     "output_type": "stream",
     "text": [
      "Iter 1/1000 - Loss: 3.582   outputscale: 1.324  lengthscale: None   noise: 0.693 \n",
      "Iter 51/1000 - Loss: 2.810   outputscale: 1.672  lengthscale: None   noise: 0.950 \n"
     ]
    }
   ],
   "source": [
    "# Train:\n",
    "losses = model.train_model(optimizer, max_steps=1000)"
   ]
  },
  {
   "cell_type": "markdown",
   "id": "744a9bff-a2b2-431a-8bd5-6536ce771075",
   "metadata": {},
   "source": [
    "## Metrics"
   ]
  },
  {
   "cell_type": "code",
   "execution_count": 57,
   "id": "0f3a1cbe-7377-4144-8c73-11f8f1d1d886",
   "metadata": {},
   "outputs": [],
   "source": [
    "import matplotlib.pyplot as plt"
   ]
  },
  {
   "cell_type": "code",
   "execution_count": null,
   "id": "0af9b2d9-d740-4f3c-91b1-f3919c88a2fa",
   "metadata": {},
   "outputs": [],
   "source": [
    "from metrics import rmse, nlpd"
   ]
  },
  {
   "cell_type": "code",
   "execution_count": 25,
   "id": "4ff77354-8080-492f-8684-c756d40560f2",
   "metadata": {},
   "outputs": [],
   "source": [
    "## predictions\n",
    "test_pred = model.posterior_predictive(test_x)"
   ]
  },
  {
   "cell_type": "code",
   "execution_count": null,
   "id": "2556be32-4109-4d7b-ad03-31109bedda6f",
   "metadata": {},
   "outputs": [],
   "source": [
    "rmse_test = np.round(rmse(test_pred.loc, test_y).item(), 4)\n",
    "nlpd_test = np.round(nlpd(test_pred, test_y).item(), 4)"
   ]
  },
  {
   "cell_type": "code",
   "execution_count": 53,
   "id": "7553e072-2fa0-45a6-a134-9d2b4dbb2dde",
   "metadata": {},
   "outputs": [],
   "source": [
    "d = test_x[19:]"
   ]
  },
  {
   "cell_type": "code",
   "execution_count": 66,
   "id": "9c988260-e41b-4dc8-ba68-cf4ea0e86e49",
   "metadata": {},
   "outputs": [],
   "source": [
    "a = test_y[19:]"
   ]
  },
  {
   "cell_type": "code",
   "execution_count": 71,
   "id": "e7d1e14b-4149-42c5-a34f-a96d95988635",
   "metadata": {},
   "outputs": [],
   "source": [
    "pred = model.posterior_predictive(d[::43])"
   ]
  },
  {
   "cell_type": "code",
   "execution_count": 72,
   "id": "d319f27d-57f3-432f-89ea-11b46c0635fd",
   "metadata": {},
   "outputs": [
    {
     "data": {
      "text/plain": [
       "<matplotlib.collections.PathCollection at 0x7ff4d7cb0b50>"
      ]
     },
     "execution_count": 72,
     "metadata": {},
     "output_type": "execute_result"
    },
    {
     "data": {
      "image/png": "[encoded data removed]",
      "text/plain": [
       "<Figure size 432x288 with 1 Axes>"
      ]
     },
     "metadata": {
      "needs_background": "light"
     },
     "output_type": "display_data"
    }
   ],
   "source": [
    "plt.plot(d[::43, 0], pred.loc)\n",
    "plt.scatter(d[::43, 0], a[::43])"
   ]
  },
  {
   "cell_type": "code",
   "execution_count": 73,
   "id": "f4957c4b-d68e-4280-8a3f-a9a60de628cc",
   "metadata": {},
   "outputs": [
    {
     "data": {
      "text/plain": [
       "tensor([0.6183, 0.6336, 0.6488, 0.6641, 0.6794, 0.6946, 0.7099, 0.7252, 0.7404,\n",
       "        0.7557, 0.7710, 0.7862, 0.8015, 0.8168, 0.8320, 0.8473, 0.8626, 0.8778,\n",
       "        0.8931, 0.9084, 0.9236, 0.9389, 0.9542, 0.9695, 0.9847, 1.0000])"
      ]
     },
     "execution_count": 73,
     "metadata": {},
     "output_type": "execute_result"
    }
   ],
   "source": [
    "d[::43, 0]"
   ]
  },
  {
   "cell_type": "code",
   "execution_count": null,
   "id": "456396b4-81e4-4707-a319-9e08a060fb3c",
   "metadata": {},
   "outputs": [],
   "source": []
  }
 ],
 "metadata": {
  "kernelspec": {
   "display_name": "Python 3 + Jaspy",
   "language": "python",
   "name": "jaspy"
  },
  "language_info": {
   "codemirror_mode": {
    "name": "ipython",
    "version": 3
   },
   "file_extension": ".py",
   "mimetype": "text/x-python",
   "name": "python",
   "nbconvert_exporter": "python",
   "pygments_lexer": "ipython3",
   "version": "3.8.12"
  }
 },
 "nbformat": 4,
 "nbformat_minor": 5
}
